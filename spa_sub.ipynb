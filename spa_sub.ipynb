{
 "cells": [
  {
   "cell_type": "markdown",
   "metadata": {},
   "source": [
    "準粒子におけるグリーン関数を用いて、グリーン関数を離散リーマン表現(DLR)や虚数周波数空間内\n",
    "に変換し、その精度を確認する。\n",
    "(Sparse-ir tutorial の離散リーマン表現部分の動作確認)"
   ]
  },
  {
   "cell_type": "markdown",
   "metadata": {},
   "source": [
    "まず、有限温度基底をフェルミオンで作る。"
   ]
  },
  {
   "cell_type": "code",
   "execution_count": null,
   "metadata": {},
   "outputs": [],
   "source": [
    "using SparseIR\n",
    "using Plots\n",
    "gr() # USE GR backend\n",
    "using LaTeXStrings\n",
    "\n",
    "wmax = 10.0\n",
    "lambda_ = 1e+4\n",
    "beta = lambda_/wmax\n",
    "\n",
    "basis = FiniteTempBasis(Fermionic(), beta, wmax, 1e-15)\n",
    "\n",
    "\n",
    "print(length(basis))"
   ]
  },
  {
   "cell_type": "markdown",
   "metadata": {},
   "source": [
    "準粒子のグリーン関数は、\n"
   ]
  },
  {
   "cell_type": "markdown",
   "metadata": {},
   "source": [
    "$G^R_{\\bm{k}}(\\omega)=\\frac{1}{\\omega-E_{\\bm{k}}+i\\Gamma_{\\bm{k}}}$ \n"
   ]
  },
  {
   "cell_type": "markdown",
   "metadata": {},
   "source": [
    "なので、スペクトル関数は、"
   ]
  },
  {
   "cell_type": "markdown",
   "metadata": {},
   "source": [
    "$\\rho_{\\bm{k}}(\\omega)=\\frac{1}{\\pi}\\frac{\\Gamma_{\\bm{k}}}{(\\omega-E_{\\bm{k}})^2+\\Gamma_{\\bm{k}}^2}$"
   ]
  },
  {
   "cell_type": "markdown",
   "metadata": {},
   "source": [
    "但し、$E_{\\bm{k}}$は準粒子のエネルギー、$\\Gamma_{\\bm{k}}$は時定数である。"
   ]
  },
  {
   "cell_type": "markdown",
   "metadata": {},
   "source": [
    "今、準粒子のエネルギーが定数を取るとすれば、周波数の零点をずらしているだけと捉えられるので、0にしても計算上問題ないとして、0におく。"
   ]
  },
  {
   "cell_type": "markdown",
   "metadata": {},
   "source": [
    "また、時定数はエネルギーに換算した時、$\\beta^{-1}$より十分小さい必要があるので、$\\Gamma_{\\bm{k}}=10^{-8}$/sとした。"
   ]
  },
  {
   "cell_type": "code",
   "execution_count": null,
   "metadata": {},
   "outputs": [],
   "source": [
    "gamma = 1e-8\n",
    "E_k = 0.0\n",
    "\n",
    "rho(omega) = 1/π*gamma/((omega-E_k)^2+gamma^2)\n",
    "\n",
    "\n",
    "omega = LinRange(-wmax, wmax, 1000)\n",
    "plot(omega, rho.(omega), xlabel=latexstring(\"\\\\omega\"), ylabel=latexstring(\"\\\\rho(\\\\omega)\"))"
   ]
  },
  {
   "cell_type": "markdown",
   "metadata": {},
   "source": [
    "有限温度基底とスペクトル関数の重なりを計算"
   ]
  },
  {
   "cell_type": "code",
   "execution_count": null,
   "metadata": {},
   "outputs": [],
   "source": [
    "rhol = overlap(basis.v, rho)\n",
    "ls = collect(1:length(basis))\n",
    "\n",
    "plot(ls[1:2:end], abs.(rhol)[1:2:end], marker=:cross, yaxis=:log, ylims=(1,2e1))"
   ]
  },
  {
   "cell_type": "markdown",
   "metadata": {},
   "source": [
    "グリーン関数を計算"
   ]
  },
  {
   "cell_type": "code",
   "execution_count": null,
   "metadata": {},
   "outputs": [],
   "source": [
    "gl = - basis.s .* rhol\n",
    "\n",
    "plot(ls[1:2:end], abs.(gl)[1:2:end], marker=:cross, ylims=(1e-20,1e3), yaxis=:log)"
   ]
  },
  {
   "cell_type": "markdown",
   "metadata": {},
   "source": [
    "グリーン関数をDLRグリーン関数に変換する"
   ]
  },
  {
   "cell_type": "code",
   "execution_count": null,
   "metadata": {},
   "outputs": [],
   "source": [
    "dlr = DiscreteLehmannRepresentation(basis)\n",
    "g_dlr = SparseIR.from_IR(dlr, gl)\n",
    "\n",
    "plot(dlr.poles, g_dlr, marker=:cross)"
   ]
  },
  {
   "cell_type": "markdown",
   "metadata": {},
   "source": [
    "先ほど変換したDLRグリーン関数をグリーン関数に逆変換し、元のグリーン関数からの誤差を見る"
   ]
  },
  {
   "cell_type": "markdown",
   "metadata": {},
   "source": [
    "誤差は大きいところで$10^{-15}$程度であり、$10^{0}$(その時のグリーン関数のオーダー)に対してとても小さいことが分かる。"
   ]
  },
  {
   "cell_type": "code",
   "execution_count": null,
   "metadata": {},
   "outputs": [],
   "source": [
    "gl_reconst = SparseIR.to_IR(dlr, g_dlr)\n",
    "\n",
    "plot(\n",
    "    [abs.(gl), abs.(gl_reconst), abs.(gl-gl_reconst)],\n",
    "    label=[\"Exact\" \"Reconstructed from DLR\" \"error\"],\n",
    "    marker=[:cross :x :circle], line=(nothing,nothing,nothing), yaxis=:log,\n",
    "    ylims=(1e-20,100)\n",
    ")"
   ]
  },
  {
   "cell_type": "markdown",
   "metadata": {},
   "source": [
    "次は虚数周波数空間でグリーン関数を再構築し、その精度を見る。"
   ]
  },
  {
   "cell_type": "code",
   "execution_count": null,
   "metadata": {},
   "outputs": [],
   "source": [
    "v = FermionicFreq.(2 .* collect(-1000:10:1000) .+ 1)\n",
    "iv = SparseIR.valueim.(v, beta)\n",
    "\n",
    "newaxis = [CartesianIndex()]\n",
    "transmat = 1 ./ (iv[:,newaxis] .- dlr.poles[newaxis,:])\n",
    "giv = transmat * g_dlr\n",
    "\n",
    "\n",
    "smpl = MatsubaraSampling(basis; sampling_points=v)\n",
    "giv_exact = evaluate(smpl, gl)\n",
    "\n",
    "\n",
    "plot(\n",
    "    imag.(iv), [imag.(giv_exact), imag.(giv)],label=[\"Exact\" \"Reconstruction\"], marker=[:cross :x], line=(nothing,nothing,nothing),\n",
    "    xlabel=latexstring(\"\\\\nu\"),\n",
    "    ylabel=latexstring(\"G(\\\\mathrm{i}\\\\omega_n)\"),\n",
    "    )"
   ]
  },
  {
   "cell_type": "markdown",
   "metadata": {},
   "source": [
    "誤差を表示するとデータが見えにくいため省略したが、誤差は$G=0$の軸上に並んで見えたので、ExactちReconstructionの各点は互いに重なっていることが分かる。"
   ]
  },
  {
   "cell_type": "markdown",
   "metadata": {},
   "source": [
    "つまり、小さい誤差で変換が可能であり、準粒子のグリーン関数に対してもこれらの変換が有効であるということが確認できた。"
   ]
  }
 ],
 "metadata": {
  "kernelspec": {
   "display_name": "Julia 1.8.5",
   "language": "julia",
   "name": "julia-1.8"
  },
  "language_info": {
   "file_extension": ".jl",
   "mimetype": "application/julia",
   "name": "julia",
   "version": "1.8.5"
  },
  "orig_nbformat": 4
 },
 "nbformat": 4,
 "nbformat_minor": 2
}
